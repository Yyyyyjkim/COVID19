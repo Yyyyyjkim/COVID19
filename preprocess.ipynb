{
  "nbformat": 4,
  "nbformat_minor": 0,
  "metadata": {
    "colab": {
      "name": "preprocess.ipynb",
      "provenance": [],
      "authorship_tag": "ABX9TyMTEeMIYGY11lg6hRv/PlI0",
      "include_colab_link": true
    },
    "kernelspec": {
      "name": "python3",
      "display_name": "Python 3"
    }
  },
  "cells": [
    {
      "cell_type": "markdown",
      "metadata": {
        "id": "view-in-github",
        "colab_type": "text"
      },
      "source": [
        "<a href=\"https://colab.research.google.com/github/Yyyyyjkim/COVID19/blob/master/preprocess.ipynb\" target=\"_parent\"><img src=\"https://colab.research.google.com/assets/colab-badge.svg\" alt=\"Open In Colab\"/></a>"
      ]
    },
    {
      "cell_type": "code",
      "metadata": {
        "id": "JyW9NGpbsXyy",
        "colab_type": "code",
        "colab": {
          "base_uri": "https://localhost:8080/",
          "height": 126
        },
        "outputId": "f97d2b04-8334-4b03-c864-5edff13f63de"
      },
      "source": [
        "from google.colab import drive\n",
        "drive.mount('/content/drive')"
      ],
      "execution_count": 3,
      "outputs": [
        {
          "output_type": "stream",
          "text": [
            "Go to this URL in a browser: https://accounts.google.com/o/oauth2/auth?client_id=947318989803-6bn6qk8qdgf4n4g3pfee6491hc0brc4i.apps.googleusercontent.com&redirect_uri=urn%3aietf%3awg%3aoauth%3a2.0%3aoob&response_type=code&scope=email%20https%3a%2f%2fwww.googleapis.com%2fauth%2fdocs.test%20https%3a%2f%2fwww.googleapis.com%2fauth%2fdrive%20https%3a%2f%2fwww.googleapis.com%2fauth%2fdrive.photos.readonly%20https%3a%2f%2fwww.googleapis.com%2fauth%2fpeopleapi.readonly\n",
            "\n",
            "Enter your authorization code:\n",
            "··········\n",
            "Mounted at /content/drive\n"
          ],
          "name": "stdout"
        }
      ]
    },
    {
      "cell_type": "code",
      "metadata": {
        "id": "-inwge-ChTob",
        "colab_type": "code",
        "colab": {}
      },
      "source": [
        "import pandas as pd\n",
        "import numpy as np\n",
        "import datetime as dt"
      ],
      "execution_count": 0,
      "outputs": []
    },
    {
      "cell_type": "code",
      "metadata": {
        "id": "beE5iep_hFkY",
        "colab_type": "code",
        "colab": {}
      },
      "source": [
        "roaming = pd.read_csv('/content/drive/My Drive/corona/data/roaming_data.csv')\n",
        "newslist = pd.read_excel('/content/drive/My Drive/corona/data/newslist.xls')"
      ],
      "execution_count": 0,
      "outputs": []
    },
    {
      "cell_type": "code",
      "metadata": {
        "id": "xnpxtMpGhfOW",
        "colab_type": "code",
        "colab": {}
      },
      "source": [
        "file_path = '/content/drive/My Drive/corona/data/contents.zip'\n",
        "!unzip '$file_path' -d '/content/data/' "
      ],
      "execution_count": 0,
      "outputs": []
    },
    {
      "cell_type": "code",
      "metadata": {
        "id": "F6uAb4-Vp76m",
        "colab_type": "code",
        "colab": {}
      },
      "source": [
        "who = pd.read_csv('/content/drive/My Drive/corona/data/additional_data/WHO_0413.csv')"
      ],
      "execution_count": 0,
      "outputs": []
    },
    {
      "cell_type": "code",
      "metadata": {
        "id": "VPnRR9koteFS",
        "colab_type": "code",
        "colab": {
          "base_uri": "https://localhost:8080/",
          "height": 35
        },
        "outputId": "da94ecc1-be27-4ae9-e402-b52cfb1a08b4"
      },
      "source": [
        "dt.datetime.strptime(str(roaming['departure'][0]),'%Y%m%d')"
      ],
      "execution_count": 18,
      "outputs": [
        {
          "output_type": "execute_result",
          "data": {
            "text/plain": [
              "datetime.datetime(2020, 1, 30, 0, 0)"
            ]
          },
          "metadata": {
            "tags": []
          },
          "execution_count": 18
        }
      ]
    },
    {
      "cell_type": "code",
      "metadata": {
        "id": "eikGYth_tL--",
        "colab_type": "code",
        "colab": {}
      },
      "source": [
        "roaming['departure']=[dt.datetime.strptime(str(i),'%Y%m%d') for i in roaming['departure']]\n",
        "roaming['return']=[dt.datetime.strptime(str(i),'%Y%m%d') for i in roaming['return']]\n",
        "roaming['arrival']=[dt.datetime.strptime(str(i),'%Y%m%d') for i in roaming['arrival']]"
      ],
      "execution_count": 0,
      "outputs": []
    },
    {
      "cell_type": "code",
      "metadata": {
        "id": "IOPUljsQufb2",
        "colab_type": "code",
        "colab": {
          "base_uri": "https://localhost:8080/",
          "height": 194
        },
        "outputId": "f95f97ec-0e97-4d47-9e90-06fee071a399"
      },
      "source": [
        "roaming.head()"
      ],
      "execution_count": 23,
      "outputs": [
        {
          "output_type": "execute_result",
          "data": {
            "text/html": [
              "<div>\n",
              "<style scoped>\n",
              "    .dataframe tbody tr th:only-of-type {\n",
              "        vertical-align: middle;\n",
              "    }\n",
              "\n",
              "    .dataframe tbody tr th {\n",
              "        vertical-align: top;\n",
              "    }\n",
              "\n",
              "    .dataframe thead th {\n",
              "        text-align: right;\n",
              "    }\n",
              "</style>\n",
              "<table border=\"1\" class=\"dataframe\">\n",
              "  <thead>\n",
              "    <tr style=\"text-align: right;\">\n",
              "      <th></th>\n",
              "      <th>return</th>\n",
              "      <th>iso</th>\n",
              "      <th>arrival</th>\n",
              "      <th>departure</th>\n",
              "      <th>count</th>\n",
              "    </tr>\n",
              "  </thead>\n",
              "  <tbody>\n",
              "    <tr>\n",
              "      <th>0</th>\n",
              "      <td>2020-01-31</td>\n",
              "      <td>ad</td>\n",
              "      <td>20200130</td>\n",
              "      <td>2020-01-30</td>\n",
              "      <td>3</td>\n",
              "    </tr>\n",
              "    <tr>\n",
              "      <th>1</th>\n",
              "      <td>2020-01-31</td>\n",
              "      <td>ae</td>\n",
              "      <td>20191231</td>\n",
              "      <td>2020-01-25</td>\n",
              "      <td>3</td>\n",
              "    </tr>\n",
              "    <tr>\n",
              "      <th>2</th>\n",
              "      <td>2020-01-31</td>\n",
              "      <td>ae</td>\n",
              "      <td>20191231</td>\n",
              "      <td>2020-01-31</td>\n",
              "      <td>3</td>\n",
              "    </tr>\n",
              "    <tr>\n",
              "      <th>3</th>\n",
              "      <td>2020-01-31</td>\n",
              "      <td>ae</td>\n",
              "      <td>20200102</td>\n",
              "      <td>2020-01-02</td>\n",
              "      <td>3</td>\n",
              "    </tr>\n",
              "    <tr>\n",
              "      <th>4</th>\n",
              "      <td>2020-01-31</td>\n",
              "      <td>ae</td>\n",
              "      <td>20200104</td>\n",
              "      <td>2020-01-31</td>\n",
              "      <td>3</td>\n",
              "    </tr>\n",
              "  </tbody>\n",
              "</table>\n",
              "</div>"
            ],
            "text/plain": [
              "      return iso   arrival  departure  count\n",
              "0 2020-01-31  ad  20200130 2020-01-30      3\n",
              "1 2020-01-31  ae  20191231 2020-01-25      3\n",
              "2 2020-01-31  ae  20191231 2020-01-31      3\n",
              "3 2020-01-31  ae  20200102 2020-01-02      3\n",
              "4 2020-01-31  ae  20200104 2020-01-31      3"
            ]
          },
          "metadata": {
            "tags": []
          },
          "execution_count": 23
        }
      ]
    },
    {
      "cell_type": "code",
      "metadata": {
        "id": "1QHfTzJIqQ_d",
        "colab_type": "code",
        "colab": {}
      },
      "source": [
        "who['day'] = [dt.datetime.strptime(str(i),'%Y-%m-%d') for i in who['day']]"
      ],
      "execution_count": 0,
      "outputs": []
    },
    {
      "cell_type": "code",
      "metadata": {
        "id": "u1kvZpiyvFQx",
        "colab_type": "code",
        "colab": {}
      },
      "source": [
        "who['Country'] = who['Country'].dropna()\n",
        "who['Country'] = [str(i).lower() for i in who['Country']]"
      ],
      "execution_count": 0,
      "outputs": []
    },
    {
      "cell_type": "code",
      "metadata": {
        "id": "boQrA5L3yKJf",
        "colab_type": "code",
        "colab": {}
      },
      "source": [
        "roaming = roaming.rename({'iso':'Country','arrival':'day'},axis='columns')"
      ],
      "execution_count": 0,
      "outputs": []
    },
    {
      "cell_type": "code",
      "metadata": {
        "id": "eQGWqDQCyIl5",
        "colab_type": "code",
        "colab": {
          "base_uri": "https://localhost:8080/",
          "height": 194
        },
        "outputId": "255031b1-a63d-495e-a33d-c47712de2221"
      },
      "source": [
        "roaming.head()"
      ],
      "execution_count": 51,
      "outputs": [
        {
          "output_type": "execute_result",
          "data": {
            "text/html": [
              "<div>\n",
              "<style scoped>\n",
              "    .dataframe tbody tr th:only-of-type {\n",
              "        vertical-align: middle;\n",
              "    }\n",
              "\n",
              "    .dataframe tbody tr th {\n",
              "        vertical-align: top;\n",
              "    }\n",
              "\n",
              "    .dataframe thead th {\n",
              "        text-align: right;\n",
              "    }\n",
              "</style>\n",
              "<table border=\"1\" class=\"dataframe\">\n",
              "  <thead>\n",
              "    <tr style=\"text-align: right;\">\n",
              "      <th></th>\n",
              "      <th>return</th>\n",
              "      <th>iso</th>\n",
              "      <th>arrival</th>\n",
              "      <th>departure</th>\n",
              "      <th>count</th>\n",
              "    </tr>\n",
              "  </thead>\n",
              "  <tbody>\n",
              "    <tr>\n",
              "      <th>0</th>\n",
              "      <td>2020-01-31</td>\n",
              "      <td>ad</td>\n",
              "      <td>2020-01-30</td>\n",
              "      <td>2020-01-30</td>\n",
              "      <td>3</td>\n",
              "    </tr>\n",
              "    <tr>\n",
              "      <th>1</th>\n",
              "      <td>2020-01-31</td>\n",
              "      <td>ae</td>\n",
              "      <td>2019-12-31</td>\n",
              "      <td>2020-01-25</td>\n",
              "      <td>3</td>\n",
              "    </tr>\n",
              "    <tr>\n",
              "      <th>2</th>\n",
              "      <td>2020-01-31</td>\n",
              "      <td>ae</td>\n",
              "      <td>2019-12-31</td>\n",
              "      <td>2020-01-31</td>\n",
              "      <td>3</td>\n",
              "    </tr>\n",
              "    <tr>\n",
              "      <th>3</th>\n",
              "      <td>2020-01-31</td>\n",
              "      <td>ae</td>\n",
              "      <td>2020-01-02</td>\n",
              "      <td>2020-01-02</td>\n",
              "      <td>3</td>\n",
              "    </tr>\n",
              "    <tr>\n",
              "      <th>4</th>\n",
              "      <td>2020-01-31</td>\n",
              "      <td>ae</td>\n",
              "      <td>2020-01-04</td>\n",
              "      <td>2020-01-31</td>\n",
              "      <td>3</td>\n",
              "    </tr>\n",
              "  </tbody>\n",
              "</table>\n",
              "</div>"
            ],
            "text/plain": [
              "      return iso    arrival  departure  count\n",
              "0 2020-01-31  ad 2020-01-30 2020-01-30      3\n",
              "1 2020-01-31  ae 2019-12-31 2020-01-25      3\n",
              "2 2020-01-31  ae 2019-12-31 2020-01-31      3\n",
              "3 2020-01-31  ae 2020-01-02 2020-01-02      3\n",
              "4 2020-01-31  ae 2020-01-04 2020-01-31      3"
            ]
          },
          "metadata": {
            "tags": []
          },
          "execution_count": 51
        }
      ]
    },
    {
      "cell_type": "code",
      "metadata": {
        "id": "nKO5fzHYw9Q6",
        "colab_type": "code",
        "colab": {}
      },
      "source": [
        "roaming_who = pd.merge(roaming,who,on=['Country','day'],how='left')\n",
        "data = roaming_who.dropna()"
      ],
      "execution_count": 0,
      "outputs": []
    },
    {
      "cell_type": "code",
      "metadata": {
        "id": "y9YIDkIk0mHO",
        "colab_type": "code",
        "colab": {
          "base_uri": "https://localhost:8080/",
          "height": 35
        },
        "outputId": "12f62154-a8dc-4dc9-bef6-3ea6fdbabc9b"
      },
      "source": [
        "set(roaming['Country'])-set(who['Country'])"
      ],
      "execution_count": 75,
      "outputs": [
        {
          "output_type": "execute_result",
          "data": {
            "text/plain": [
              "{'an', 'hk', 'ls', 'mo', 'na', nan, 'tk', 'tm', 'to', 'tp', 'tw', 'vu', 'ws'}"
            ]
          },
          "metadata": {
            "tags": []
          },
          "execution_count": 75
        }
      ]
    },
    {
      "cell_type": "code",
      "metadata": {
        "id": "DbvrZRTP1P9f",
        "colab_type": "code",
        "colab": {}
      },
      "source": [
        "who.loc[who['Country']=='ad']"
      ],
      "execution_count": 0,
      "outputs": []
    },
    {
      "cell_type": "code",
      "metadata": {
        "id": "9SIn7pue1Ett",
        "colab_type": "code",
        "colab": {}
      },
      "source": [
        "roaming.loc[roaming['Country']=='ad']"
      ],
      "execution_count": 0,
      "outputs": []
    },
    {
      "cell_type": "code",
      "metadata": {
        "id": "g1DY39BV4hXX",
        "colab_type": "code",
        "colab": {
          "base_uri": "https://localhost:8080/",
          "height": 585
        },
        "outputId": "25dfa6ba-4f58-4e68-ae20-8c12eebaf3b1"
      },
      "source": [
        "data.sort_values(by=['Country','day'])"
      ],
      "execution_count": 85,
      "outputs": [
        {
          "output_type": "execute_result",
          "data": {
            "text/html": [
              "<div>\n",
              "<style scoped>\n",
              "    .dataframe tbody tr th:only-of-type {\n",
              "        vertical-align: middle;\n",
              "    }\n",
              "\n",
              "    .dataframe tbody tr th {\n",
              "        vertical-align: top;\n",
              "    }\n",
              "\n",
              "    .dataframe thead th {\n",
              "        text-align: right;\n",
              "    }\n",
              "</style>\n",
              "<table border=\"1\" class=\"dataframe\">\n",
              "  <thead>\n",
              "    <tr style=\"text-align: right;\">\n",
              "      <th></th>\n",
              "      <th>return</th>\n",
              "      <th>Country</th>\n",
              "      <th>day</th>\n",
              "      <th>departure</th>\n",
              "      <th>count</th>\n",
              "      <th>Country Name</th>\n",
              "      <th>Region</th>\n",
              "      <th>Deaths</th>\n",
              "      <th>Cumulative Deaths</th>\n",
              "      <th>Confirmed</th>\n",
              "      <th>Cumulative Confirmed</th>\n",
              "    </tr>\n",
              "  </thead>\n",
              "  <tbody>\n",
              "    <tr>\n",
              "      <th>83798</th>\n",
              "      <td>2020-03-07</td>\n",
              "      <td>ad</td>\n",
              "      <td>2020-03-03</td>\n",
              "      <td>2020-03-03</td>\n",
              "      <td>3</td>\n",
              "      <td>Andorra</td>\n",
              "      <td>EURO</td>\n",
              "      <td>0.0</td>\n",
              "      <td>0.0</td>\n",
              "      <td>0.0</td>\n",
              "      <td>1.0</td>\n",
              "    </tr>\n",
              "    <tr>\n",
              "      <th>83799</th>\n",
              "      <td>2020-03-07</td>\n",
              "      <td>ad</td>\n",
              "      <td>2020-03-05</td>\n",
              "      <td>2020-03-05</td>\n",
              "      <td>3</td>\n",
              "      <td>Andorra</td>\n",
              "      <td>EURO</td>\n",
              "      <td>0.0</td>\n",
              "      <td>0.0</td>\n",
              "      <td>0.0</td>\n",
              "      <td>1.0</td>\n",
              "    </tr>\n",
              "    <tr>\n",
              "      <th>83800</th>\n",
              "      <td>2020-03-07</td>\n",
              "      <td>ad</td>\n",
              "      <td>2020-03-07</td>\n",
              "      <td>2020-03-07</td>\n",
              "      <td>3</td>\n",
              "      <td>Andorra</td>\n",
              "      <td>EURO</td>\n",
              "      <td>0.0</td>\n",
              "      <td>0.0</td>\n",
              "      <td>0.0</td>\n",
              "      <td>1.0</td>\n",
              "    </tr>\n",
              "    <tr>\n",
              "      <th>81667</th>\n",
              "      <td>2020-03-10</td>\n",
              "      <td>ad</td>\n",
              "      <td>2020-03-09</td>\n",
              "      <td>2020-03-09</td>\n",
              "      <td>3</td>\n",
              "      <td>Andorra</td>\n",
              "      <td>EURO</td>\n",
              "      <td>0.0</td>\n",
              "      <td>0.0</td>\n",
              "      <td>0.0</td>\n",
              "      <td>1.0</td>\n",
              "    </tr>\n",
              "    <tr>\n",
              "      <th>81161</th>\n",
              "      <td>2020-03-11</td>\n",
              "      <td>ad</td>\n",
              "      <td>2020-03-10</td>\n",
              "      <td>2020-03-10</td>\n",
              "      <td>3</td>\n",
              "      <td>Andorra</td>\n",
              "      <td>EURO</td>\n",
              "      <td>0.0</td>\n",
              "      <td>0.0</td>\n",
              "      <td>0.0</td>\n",
              "      <td>1.0</td>\n",
              "    </tr>\n",
              "    <tr>\n",
              "      <th>...</th>\n",
              "      <td>...</td>\n",
              "      <td>...</td>\n",
              "      <td>...</td>\n",
              "      <td>...</td>\n",
              "      <td>...</td>\n",
              "      <td>...</td>\n",
              "      <td>...</td>\n",
              "      <td>...</td>\n",
              "      <td>...</td>\n",
              "      <td>...</td>\n",
              "      <td>...</td>\n",
              "    </tr>\n",
              "    <tr>\n",
              "      <th>74600</th>\n",
              "      <td>2020-03-24</td>\n",
              "      <td>za</td>\n",
              "      <td>2020-03-24</td>\n",
              "      <td>2020-03-24</td>\n",
              "      <td>3</td>\n",
              "      <td>South Africa</td>\n",
              "      <td>AFRO</td>\n",
              "      <td>0.0</td>\n",
              "      <td>0.0</td>\n",
              "      <td>128.0</td>\n",
              "      <td>402.0</td>\n",
              "    </tr>\n",
              "    <tr>\n",
              "      <th>73932</th>\n",
              "      <td>2020-03-26</td>\n",
              "      <td>za</td>\n",
              "      <td>2020-03-25</td>\n",
              "      <td>2020-03-26</td>\n",
              "      <td>3</td>\n",
              "      <td>South Africa</td>\n",
              "      <td>AFRO</td>\n",
              "      <td>0.0</td>\n",
              "      <td>0.0</td>\n",
              "      <td>152.0</td>\n",
              "      <td>554.0</td>\n",
              "    </tr>\n",
              "    <tr>\n",
              "      <th>74221</th>\n",
              "      <td>2020-03-25</td>\n",
              "      <td>za</td>\n",
              "      <td>2020-03-25</td>\n",
              "      <td>2020-03-25</td>\n",
              "      <td>3</td>\n",
              "      <td>South Africa</td>\n",
              "      <td>AFRO</td>\n",
              "      <td>0.0</td>\n",
              "      <td>0.0</td>\n",
              "      <td>152.0</td>\n",
              "      <td>554.0</td>\n",
              "    </tr>\n",
              "    <tr>\n",
              "      <th>73607</th>\n",
              "      <td>2020-03-27</td>\n",
              "      <td>za</td>\n",
              "      <td>2020-03-27</td>\n",
              "      <td>2020-03-27</td>\n",
              "      <td>3</td>\n",
              "      <td>South Africa</td>\n",
              "      <td>AFRO</td>\n",
              "      <td>0.0</td>\n",
              "      <td>0.0</td>\n",
              "      <td>0.0</td>\n",
              "      <td>927.0</td>\n",
              "    </tr>\n",
              "    <tr>\n",
              "      <th>73277</th>\n",
              "      <td>2020-03-28</td>\n",
              "      <td>za</td>\n",
              "      <td>2020-03-28</td>\n",
              "      <td>2020-03-28</td>\n",
              "      <td>3</td>\n",
              "      <td>South Africa</td>\n",
              "      <td>AFRO</td>\n",
              "      <td>1.0</td>\n",
              "      <td>1.0</td>\n",
              "      <td>243.0</td>\n",
              "      <td>1170.0</td>\n",
              "    </tr>\n",
              "  </tbody>\n",
              "</table>\n",
              "<p>47747 rows × 11 columns</p>\n",
              "</div>"
            ],
            "text/plain": [
              "          return Country  ... Confirmed Cumulative Confirmed\n",
              "83798 2020-03-07      ad  ...       0.0                  1.0\n",
              "83799 2020-03-07      ad  ...       0.0                  1.0\n",
              "83800 2020-03-07      ad  ...       0.0                  1.0\n",
              "81667 2020-03-10      ad  ...       0.0                  1.0\n",
              "81161 2020-03-11      ad  ...       0.0                  1.0\n",
              "...          ...     ...  ...       ...                  ...\n",
              "74600 2020-03-24      za  ...     128.0                402.0\n",
              "73932 2020-03-26      za  ...     152.0                554.0\n",
              "74221 2020-03-25      za  ...     152.0                554.0\n",
              "73607 2020-03-27      za  ...       0.0                927.0\n",
              "73277 2020-03-28      za  ...     243.0               1170.0\n",
              "\n",
              "[47747 rows x 11 columns]"
            ]
          },
          "metadata": {
            "tags": []
          },
          "execution_count": 85
        }
      ]
    },
    {
      "cell_type": "code",
      "metadata": {
        "id": "kfOBVk6c1kw2",
        "colab_type": "code",
        "colab": {
          "base_uri": "https://localhost:8080/",
          "height": 585
        },
        "outputId": "67205591-638c-41b7-c86b-c872901c2cb0"
      },
      "source": [
        "data.loc[data['Country']=='us'].sort_values(by='day')"
      ],
      "execution_count": 83,
      "outputs": [
        {
          "output_type": "execute_result",
          "data": {
            "text/html": [
              "<div>\n",
              "<style scoped>\n",
              "    .dataframe tbody tr th:only-of-type {\n",
              "        vertical-align: middle;\n",
              "    }\n",
              "\n",
              "    .dataframe tbody tr th {\n",
              "        vertical-align: top;\n",
              "    }\n",
              "\n",
              "    .dataframe thead th {\n",
              "        text-align: right;\n",
              "    }\n",
              "</style>\n",
              "<table border=\"1\" class=\"dataframe\">\n",
              "  <thead>\n",
              "    <tr style=\"text-align: right;\">\n",
              "      <th></th>\n",
              "      <th>return</th>\n",
              "      <th>Country</th>\n",
              "      <th>day</th>\n",
              "      <th>departure</th>\n",
              "      <th>count</th>\n",
              "      <th>Country Name</th>\n",
              "      <th>Region</th>\n",
              "      <th>Deaths</th>\n",
              "      <th>Cumulative Deaths</th>\n",
              "      <th>Confirmed</th>\n",
              "      <th>Cumulative Confirmed</th>\n",
              "    </tr>\n",
              "  </thead>\n",
              "  <tbody>\n",
              "    <tr>\n",
              "      <th>2405</th>\n",
              "      <td>2020-01-31</td>\n",
              "      <td>us</td>\n",
              "      <td>2020-01-20</td>\n",
              "      <td>2020-01-20</td>\n",
              "      <td>9</td>\n",
              "      <td>United States of America</td>\n",
              "      <td>AMRO</td>\n",
              "      <td>0.0</td>\n",
              "      <td>0.0</td>\n",
              "      <td>1.0</td>\n",
              "      <td>1.0</td>\n",
              "    </tr>\n",
              "    <tr>\n",
              "      <th>13796</th>\n",
              "      <td>2020-01-26</td>\n",
              "      <td>us</td>\n",
              "      <td>2020-01-20</td>\n",
              "      <td>2020-01-25</td>\n",
              "      <td>17</td>\n",
              "      <td>United States of America</td>\n",
              "      <td>AMRO</td>\n",
              "      <td>0.0</td>\n",
              "      <td>0.0</td>\n",
              "      <td>1.0</td>\n",
              "      <td>1.0</td>\n",
              "    </tr>\n",
              "    <tr>\n",
              "      <th>13797</th>\n",
              "      <td>2020-01-26</td>\n",
              "      <td>us</td>\n",
              "      <td>2020-01-20</td>\n",
              "      <td>2020-01-26</td>\n",
              "      <td>22</td>\n",
              "      <td>United States of America</td>\n",
              "      <td>AMRO</td>\n",
              "      <td>0.0</td>\n",
              "      <td>0.0</td>\n",
              "      <td>1.0</td>\n",
              "      <td>1.0</td>\n",
              "    </tr>\n",
              "    <tr>\n",
              "      <th>15887</th>\n",
              "      <td>2020-01-25</td>\n",
              "      <td>us</td>\n",
              "      <td>2020-01-20</td>\n",
              "      <td>2020-01-20</td>\n",
              "      <td>20</td>\n",
              "      <td>United States of America</td>\n",
              "      <td>AMRO</td>\n",
              "      <td>0.0</td>\n",
              "      <td>0.0</td>\n",
              "      <td>1.0</td>\n",
              "      <td>1.0</td>\n",
              "    </tr>\n",
              "    <tr>\n",
              "      <th>15888</th>\n",
              "      <td>2020-01-25</td>\n",
              "      <td>us</td>\n",
              "      <td>2020-01-20</td>\n",
              "      <td>2020-01-21</td>\n",
              "      <td>11</td>\n",
              "      <td>United States of America</td>\n",
              "      <td>AMRO</td>\n",
              "      <td>0.0</td>\n",
              "      <td>0.0</td>\n",
              "      <td>1.0</td>\n",
              "      <td>1.0</td>\n",
              "    </tr>\n",
              "    <tr>\n",
              "      <th>...</th>\n",
              "      <td>...</td>\n",
              "      <td>...</td>\n",
              "      <td>...</td>\n",
              "      <td>...</td>\n",
              "      <td>...</td>\n",
              "      <td>...</td>\n",
              "      <td>...</td>\n",
              "      <td>...</td>\n",
              "      <td>...</td>\n",
              "      <td>...</td>\n",
              "      <td>...</td>\n",
              "    </tr>\n",
              "    <tr>\n",
              "      <th>72615</th>\n",
              "      <td>2020-03-30</td>\n",
              "      <td>us</td>\n",
              "      <td>2020-03-29</td>\n",
              "      <td>2020-03-30</td>\n",
              "      <td>16</td>\n",
              "      <td>United States of America</td>\n",
              "      <td>AMRO</td>\n",
              "      <td>425.0</td>\n",
              "      <td>1668.0</td>\n",
              "      <td>18093.0</td>\n",
              "      <td>103321.0</td>\n",
              "    </tr>\n",
              "    <tr>\n",
              "      <th>72271</th>\n",
              "      <td>2020-03-31</td>\n",
              "      <td>us</td>\n",
              "      <td>2020-03-30</td>\n",
              "      <td>2020-03-30</td>\n",
              "      <td>14</td>\n",
              "      <td>United States of America</td>\n",
              "      <td>AMRO</td>\n",
              "      <td>444.0</td>\n",
              "      <td>2112.0</td>\n",
              "      <td>19332.0</td>\n",
              "      <td>122653.0</td>\n",
              "    </tr>\n",
              "    <tr>\n",
              "      <th>72616</th>\n",
              "      <td>2020-03-30</td>\n",
              "      <td>us</td>\n",
              "      <td>2020-03-30</td>\n",
              "      <td>2020-03-30</td>\n",
              "      <td>7</td>\n",
              "      <td>United States of America</td>\n",
              "      <td>AMRO</td>\n",
              "      <td>444.0</td>\n",
              "      <td>2112.0</td>\n",
              "      <td>19332.0</td>\n",
              "      <td>122653.0</td>\n",
              "    </tr>\n",
              "    <tr>\n",
              "      <th>72272</th>\n",
              "      <td>2020-03-31</td>\n",
              "      <td>us</td>\n",
              "      <td>2020-03-30</td>\n",
              "      <td>2020-03-31</td>\n",
              "      <td>16</td>\n",
              "      <td>United States of America</td>\n",
              "      <td>AMRO</td>\n",
              "      <td>444.0</td>\n",
              "      <td>2112.0</td>\n",
              "      <td>19332.0</td>\n",
              "      <td>122653.0</td>\n",
              "    </tr>\n",
              "    <tr>\n",
              "      <th>72273</th>\n",
              "      <td>2020-03-31</td>\n",
              "      <td>us</td>\n",
              "      <td>2020-03-31</td>\n",
              "      <td>2020-03-31</td>\n",
              "      <td>13</td>\n",
              "      <td>United States of America</td>\n",
              "      <td>AMRO</td>\n",
              "      <td>286.0</td>\n",
              "      <td>2398.0</td>\n",
              "      <td>17987.0</td>\n",
              "      <td>140640.0</td>\n",
              "    </tr>\n",
              "  </tbody>\n",
              "</table>\n",
              "<p>4777 rows × 11 columns</p>\n",
              "</div>"
            ],
            "text/plain": [
              "          return Country  ... Confirmed Cumulative Confirmed\n",
              "2405  2020-01-31      us  ...       1.0                  1.0\n",
              "13796 2020-01-26      us  ...       1.0                  1.0\n",
              "13797 2020-01-26      us  ...       1.0                  1.0\n",
              "15887 2020-01-25      us  ...       1.0                  1.0\n",
              "15888 2020-01-25      us  ...       1.0                  1.0\n",
              "...          ...     ...  ...       ...                  ...\n",
              "72615 2020-03-30      us  ...   18093.0             103321.0\n",
              "72271 2020-03-31      us  ...   19332.0             122653.0\n",
              "72616 2020-03-30      us  ...   19332.0             122653.0\n",
              "72272 2020-03-31      us  ...   19332.0             122653.0\n",
              "72273 2020-03-31      us  ...   17987.0             140640.0\n",
              "\n",
              "[4777 rows x 11 columns]"
            ]
          },
          "metadata": {
            "tags": []
          },
          "execution_count": 83
        }
      ]
    },
    {
      "cell_type": "code",
      "metadata": {
        "id": "0UHQKZ74uv3w",
        "colab_type": "code",
        "colab": {}
      },
      "source": [
        ""
      ],
      "execution_count": 0,
      "outputs": []
    },
    {
      "cell_type": "code",
      "metadata": {
        "id": "YJSuOOfKxD4W",
        "colab_type": "code",
        "colab": {
          "base_uri": "https://localhost:8080/",
          "height": 194
        },
        "outputId": "11bc2f43-c6b2-4c8d-cffc-5f05b57b9356"
      },
      "source": [
        "who.head()"
      ],
      "execution_count": 43,
      "outputs": [
        {
          "output_type": "execute_result",
          "data": {
            "text/html": [
              "<div>\n",
              "<style scoped>\n",
              "    .dataframe tbody tr th:only-of-type {\n",
              "        vertical-align: middle;\n",
              "    }\n",
              "\n",
              "    .dataframe tbody tr th {\n",
              "        vertical-align: top;\n",
              "    }\n",
              "\n",
              "    .dataframe thead th {\n",
              "        text-align: right;\n",
              "    }\n",
              "</style>\n",
              "<table border=\"1\" class=\"dataframe\">\n",
              "  <thead>\n",
              "    <tr style=\"text-align: right;\">\n",
              "      <th></th>\n",
              "      <th>day</th>\n",
              "      <th>Country</th>\n",
              "      <th>Country Name</th>\n",
              "      <th>Region</th>\n",
              "      <th>Deaths</th>\n",
              "      <th>Cumulative Deaths</th>\n",
              "      <th>Confirmed</th>\n",
              "      <th>Cumulative Confirmed</th>\n",
              "    </tr>\n",
              "  </thead>\n",
              "  <tbody>\n",
              "    <tr>\n",
              "      <th>0</th>\n",
              "      <td>2020-02-24</td>\n",
              "      <td>af</td>\n",
              "      <td>Afghanistan</td>\n",
              "      <td>EMRO</td>\n",
              "      <td>0</td>\n",
              "      <td>0</td>\n",
              "      <td>1</td>\n",
              "      <td>1</td>\n",
              "    </tr>\n",
              "    <tr>\n",
              "      <th>1</th>\n",
              "      <td>2020-02-25</td>\n",
              "      <td>af</td>\n",
              "      <td>Afghanistan</td>\n",
              "      <td>EMRO</td>\n",
              "      <td>0</td>\n",
              "      <td>0</td>\n",
              "      <td>0</td>\n",
              "      <td>1</td>\n",
              "    </tr>\n",
              "    <tr>\n",
              "      <th>2</th>\n",
              "      <td>2020-02-26</td>\n",
              "      <td>af</td>\n",
              "      <td>Afghanistan</td>\n",
              "      <td>EMRO</td>\n",
              "      <td>0</td>\n",
              "      <td>0</td>\n",
              "      <td>0</td>\n",
              "      <td>1</td>\n",
              "    </tr>\n",
              "    <tr>\n",
              "      <th>3</th>\n",
              "      <td>2020-02-27</td>\n",
              "      <td>af</td>\n",
              "      <td>Afghanistan</td>\n",
              "      <td>EMRO</td>\n",
              "      <td>0</td>\n",
              "      <td>0</td>\n",
              "      <td>0</td>\n",
              "      <td>1</td>\n",
              "    </tr>\n",
              "    <tr>\n",
              "      <th>4</th>\n",
              "      <td>2020-02-28</td>\n",
              "      <td>af</td>\n",
              "      <td>Afghanistan</td>\n",
              "      <td>EMRO</td>\n",
              "      <td>0</td>\n",
              "      <td>0</td>\n",
              "      <td>0</td>\n",
              "      <td>1</td>\n",
              "    </tr>\n",
              "  </tbody>\n",
              "</table>\n",
              "</div>"
            ],
            "text/plain": [
              "         day Country  ... Confirmed Cumulative Confirmed\n",
              "0 2020-02-24      af  ...         1                    1\n",
              "1 2020-02-25      af  ...         0                    1\n",
              "2 2020-02-26      af  ...         0                    1\n",
              "3 2020-02-27      af  ...         0                    1\n",
              "4 2020-02-28      af  ...         0                    1\n",
              "\n",
              "[5 rows x 8 columns]"
            ]
          },
          "metadata": {
            "tags": []
          },
          "execution_count": 43
        }
      ]
    }
  ]
}