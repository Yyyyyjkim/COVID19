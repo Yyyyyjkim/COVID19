{
  "nbformat": 4,
  "nbformat_minor": 0,
  "metadata": {
    "colab": {
      "name": "preprocess.ipynb",
      "provenance": [],
      "collapsed_sections": [],
      "authorship_tag": "ABX9TyPLHgn1V0iSJ2rL/lzjljPa",
      "include_colab_link": true
    },
    "kernelspec": {
      "name": "python3",
      "display_name": "Python 3"
    }
  },
  "cells": [
    {
      "cell_type": "markdown",
      "metadata": {
        "id": "view-in-github",
        "colab_type": "text"
      },
      "source": [
        "<a href=\"https://colab.research.google.com/github/Yyyyyjkim/COVID19/blob/master/preprocess.ipynb\" target=\"_parent\"><img src=\"https://colab.research.google.com/assets/colab-badge.svg\" alt=\"Open In Colab\"/></a>"
      ]
    },
    {
      "cell_type": "code",
      "metadata": {
        "id": "fjYq-GN3f-kO",
        "colab_type": "code",
        "colab": {}
      },
      "source": [
        "!pip install datapackage"
      ],
      "execution_count": 0,
      "outputs": []
    },
    {
      "cell_type": "code",
      "metadata": {
        "id": "JyW9NGpbsXyy",
        "colab_type": "code",
        "outputId": "d60855ce-c839-4ed2-a815-4aecee6b3d7e",
        "colab": {
          "base_uri": "https://localhost:8080/",
          "height": 35
        }
      },
      "source": [
        "from google.colab import drive\n",
        "drive.mount('/content/drive')"
      ],
      "execution_count": 10,
      "outputs": [
        {
          "output_type": "stream",
          "text": [
            "Drive already mounted at /content/drive; to attempt to forcibly remount, call drive.mount(\"/content/drive\", force_remount=True).\n"
          ],
          "name": "stdout"
        }
      ]
    },
    {
      "cell_type": "code",
      "metadata": {
        "id": "-inwge-ChTob",
        "colab_type": "code",
        "colab": {}
      },
      "source": [
        "import pandas as pd\n",
        "import numpy as np\n",
        "import datetime as dt"
      ],
      "execution_count": 0,
      "outputs": []
    },
    {
      "cell_type": "code",
      "metadata": {
        "id": "beE5iep_hFkY",
        "colab_type": "code",
        "colab": {}
      },
      "source": [
        "roaming = pd.read_csv('/content/drive/My Drive/corona/data/roaming_data.csv')\n",
        "who = pd.read_csv('/content/drive/My Drive/corona/data/additional_data/WHO_0421.csv')\n",
        "iso = pd.read_csv('/content/drive/My Drive/corona/data/additional_data/country_codes.csv',encoding='utf-8')"
      ],
      "execution_count": 0,
      "outputs": []
    },
    {
      "cell_type": "code",
      "metadata": {
        "id": "xnpxtMpGhfOW",
        "colab_type": "code",
        "colab": {}
      },
      "source": [
        "# file_path = '/content/drive/My Drive/corona/data/contents.zip'\n",
        "# !unzip '$file_path' -d '/content/data/' "
      ],
      "execution_count": 0,
      "outputs": []
    },
    {
      "cell_type": "code",
      "metadata": {
        "id": "eikGYth_tL--",
        "colab_type": "code",
        "colab": {}
      },
      "source": [
        "roaming['departure']=[dt.datetime.strptime(str(i),'%Y%m%d') for i in roaming['departure']]\n",
        "roaming['return']=[dt.datetime.strptime(str(i),'%Y%m%d') for i in roaming['return']]\n",
        "roaming['arrival']=[dt.datetime.strptime(str(i),'%Y%m%d') for i in roaming['arrival']]"
      ],
      "execution_count": 0,
      "outputs": []
    },
    {
      "cell_type": "code",
      "metadata": {
        "id": "VtQL30mbjpQi",
        "colab_type": "code",
        "colab": {}
      },
      "source": [
        "iso = iso[['ISO3166-1-Alpha-2','Continent']]\n",
        "iso.columns = ['Country','Continent']"
      ],
      "execution_count": 0,
      "outputs": []
    },
    {
      "cell_type": "code",
      "metadata": {
        "id": "4z2a1oNoj1Yu",
        "colab_type": "code",
        "colab": {}
      },
      "source": [
        "iso['iso'] = [str(i).lower() for i in iso['iso']]\n",
        "iso['continent'] = [str(i).lower() for i in iso['continent']]"
      ],
      "execution_count": 0,
      "outputs": []
    },
    {
      "cell_type": "code",
      "metadata": {
        "id": "1QHfTzJIqQ_d",
        "colab_type": "code",
        "colab": {}
      },
      "source": [
        "who['day'] = [dt.datetime.strptime(str(i),'%Y-%m-%d') for i in who['day']]\n",
        "who['Country'] = who['Country'].dropna()\n",
        "who['Country'] = [str(i).lower() for i in who['Country']]"
      ],
      "execution_count": 0,
      "outputs": []
    },
    {
      "cell_type": "code",
      "metadata": {
        "id": "cISmtrMKmeyR",
        "colab_type": "code",
        "colab": {}
      },
      "source": [
        "iso.head()"
      ],
      "execution_count": 0,
      "outputs": []
    },
    {
      "cell_type": "code",
      "metadata": {
        "id": "bKLnKoVemg5c",
        "colab_type": "code",
        "colab": {}
      },
      "source": [
        "who_iso = pd.merge(who,iso,on='Country',how='left')"
      ],
      "execution_count": 0,
      "outputs": []
    },
    {
      "cell_type": "code",
      "metadata": {
        "id": "uedMOBYsmx4z",
        "colab_type": "code",
        "colab": {
          "base_uri": "https://localhost:8080/",
          "height": 35
        },
        "outputId": "a08a6d0b-2da9-44ff-86f7-c9a2f303c8e4"
      },
      "source": [
        "who_iso"
      ],
      "execution_count": 53,
      "outputs": [
        {
          "output_type": "execute_result",
          "data": {
            "text/plain": [
              "Timestamp('2020-04-21 00:00:00')"
            ]
          },
          "metadata": {
            "tags": []
          },
          "execution_count": 53
        }
      ]
    },
    {
      "cell_type": "code",
      "metadata": {
        "id": "boQrA5L3yKJf",
        "colab_type": "code",
        "colab": {}
      },
      "source": [
        "roaming = roaming.rename({'iso':'Country','arrival':'day'},axis='columns')"
      ],
      "execution_count": 0,
      "outputs": []
    },
    {
      "cell_type": "code",
      "metadata": {
        "id": "eQGWqDQCyIl5",
        "colab_type": "code",
        "outputId": "255031b1-a63d-495e-a33d-c47712de2221",
        "colab": {
          "base_uri": "https://localhost:8080/",
          "height": 194
        }
      },
      "source": [
        "roaming.head()"
      ],
      "execution_count": 0,
      "outputs": [
        {
          "output_type": "execute_result",
          "data": {
            "text/html": [
              "<div>\n",
              "<style scoped>\n",
              "    .dataframe tbody tr th:only-of-type {\n",
              "        vertical-align: middle;\n",
              "    }\n",
              "\n",
              "    .dataframe tbody tr th {\n",
              "        vertical-align: top;\n",
              "    }\n",
              "\n",
              "    .dataframe thead th {\n",
              "        text-align: right;\n",
              "    }\n",
              "</style>\n",
              "<table border=\"1\" class=\"dataframe\">\n",
              "  <thead>\n",
              "    <tr style=\"text-align: right;\">\n",
              "      <th></th>\n",
              "      <th>return</th>\n",
              "      <th>iso</th>\n",
              "      <th>arrival</th>\n",
              "      <th>departure</th>\n",
              "      <th>count</th>\n",
              "    </tr>\n",
              "  </thead>\n",
              "  <tbody>\n",
              "    <tr>\n",
              "      <th>0</th>\n",
              "      <td>2020-01-31</td>\n",
              "      <td>ad</td>\n",
              "      <td>2020-01-30</td>\n",
              "      <td>2020-01-30</td>\n",
              "      <td>3</td>\n",
              "    </tr>\n",
              "    <tr>\n",
              "      <th>1</th>\n",
              "      <td>2020-01-31</td>\n",
              "      <td>ae</td>\n",
              "      <td>2019-12-31</td>\n",
              "      <td>2020-01-25</td>\n",
              "      <td>3</td>\n",
              "    </tr>\n",
              "    <tr>\n",
              "      <th>2</th>\n",
              "      <td>2020-01-31</td>\n",
              "      <td>ae</td>\n",
              "      <td>2019-12-31</td>\n",
              "      <td>2020-01-31</td>\n",
              "      <td>3</td>\n",
              "    </tr>\n",
              "    <tr>\n",
              "      <th>3</th>\n",
              "      <td>2020-01-31</td>\n",
              "      <td>ae</td>\n",
              "      <td>2020-01-02</td>\n",
              "      <td>2020-01-02</td>\n",
              "      <td>3</td>\n",
              "    </tr>\n",
              "    <tr>\n",
              "      <th>4</th>\n",
              "      <td>2020-01-31</td>\n",
              "      <td>ae</td>\n",
              "      <td>2020-01-04</td>\n",
              "      <td>2020-01-31</td>\n",
              "      <td>3</td>\n",
              "    </tr>\n",
              "  </tbody>\n",
              "</table>\n",
              "</div>"
            ],
            "text/plain": [
              "      return iso    arrival  departure  count\n",
              "0 2020-01-31  ad 2020-01-30 2020-01-30      3\n",
              "1 2020-01-31  ae 2019-12-31 2020-01-25      3\n",
              "2 2020-01-31  ae 2019-12-31 2020-01-31      3\n",
              "3 2020-01-31  ae 2020-01-02 2020-01-02      3\n",
              "4 2020-01-31  ae 2020-01-04 2020-01-31      3"
            ]
          },
          "metadata": {
            "tags": []
          },
          "execution_count": 51
        }
      ]
    },
    {
      "cell_type": "code",
      "metadata": {
        "id": "nKO5fzHYw9Q6",
        "colab_type": "code",
        "colab": {}
      },
      "source": [
        "roaming_who = pd.merge(roaming,who,on=['Country','day'],how='left')\n",
        "data = roaming_who.dropna()"
      ],
      "execution_count": 0,
      "outputs": []
    },
    {
      "cell_type": "code",
      "metadata": {
        "id": "y9YIDkIk0mHO",
        "colab_type": "code",
        "outputId": "12f62154-a8dc-4dc9-bef6-3ea6fdbabc9b",
        "colab": {
          "base_uri": "https://localhost:8080/",
          "height": 35
        }
      },
      "source": [
        "set(roaming['Country'])-set(who['Country'])"
      ],
      "execution_count": 0,
      "outputs": [
        {
          "output_type": "execute_result",
          "data": {
            "text/plain": [
              "{'an', 'hk', 'ls', 'mo', 'na', nan, 'tk', 'tm', 'to', 'tp', 'tw', 'vu', 'ws'}"
            ]
          },
          "metadata": {
            "tags": []
          },
          "execution_count": 75
        }
      ]
    },
    {
      "cell_type": "code",
      "metadata": {
        "id": "DbvrZRTP1P9f",
        "colab_type": "code",
        "colab": {}
      },
      "source": [
        "who.loc[who['Country']=='ad']"
      ],
      "execution_count": 0,
      "outputs": []
    },
    {
      "cell_type": "code",
      "metadata": {
        "id": "9SIn7pue1Ett",
        "colab_type": "code",
        "colab": {}
      },
      "source": [
        "roaming.loc[roaming['Country']=='ad']"
      ],
      "execution_count": 0,
      "outputs": []
    },
    {
      "cell_type": "code",
      "metadata": {
        "id": "g1DY39BV4hXX",
        "colab_type": "code",
        "colab": {}
      },
      "source": [
        "data.sort_values(by=['Country','day'])"
      ],
      "execution_count": 0,
      "outputs": []
    },
    {
      "cell_type": "code",
      "metadata": {
        "id": "kfOBVk6c1kw2",
        "colab_type": "code",
        "colab": {}
      },
      "source": [
        "data.loc[data['Country']=='us'].sort_values(by='day')"
      ],
      "execution_count": 0,
      "outputs": []
    }
  ]
}